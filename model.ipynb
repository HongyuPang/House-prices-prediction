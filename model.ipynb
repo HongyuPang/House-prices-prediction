{
 "cells": [
  {
   "cell_type": "code",
   "execution_count": 62,
   "id": "bea8a120-8311-4f8f-89fd-9dcc9a0a531f",
   "metadata": {},
   "outputs": [],
   "source": [
    "%matplotlib inline\n",
    "import pandas as pd\n",
    "import torch\n",
    "import numpy as np\n",
    "from torch import nn\n",
    "import matplotlib.pyplot as plt\n",
    "from torch.utils.data import DataLoader, TensorDataset\n",
    "\n",
    "train_data = pd.read_csv(\"/Users/WAIT/Projects/house_prices_regression/data/house-prices-advanced-regression-techniques/train.csv\")\n",
    "test_data = pd.read_csv(\"/Users/WAIT/Projects/house_prices_regression/data/house-prices-advanced-regression-techniques/test.csv\")"
   ]
  },
  {
   "cell_type": "code",
   "execution_count": 63,
   "id": "4bfe9aac-ec73-45c0-a23f-0d63db85ef78",
   "metadata": {},
   "outputs": [],
   "source": [
    "features = pd.concat((train_data.iloc[:, 1:-1], test_data.iloc[:, 1:]))"
   ]
  },
  {
   "cell_type": "code",
   "execution_count": 65,
   "id": "52188361-036a-49ff-99f0-ea3cdef42d63",
   "metadata": {},
   "outputs": [],
   "source": [
    "#数据预处理\n",
    "numeric_features_index = features.dtypes[features.dtypes != 'object'].index\n",
    "features[numeric_features_index] = features[numeric_features_index].apply(\n",
    "    lambda x: (x - x.mean()) / (x.std()))\n",
    "features[numeric_features_index] = features[numeric_features_index].fillna(0)\n",
    "features = pd.get_dummies(features, dummy_na=True)\n",
    "\n",
    "n_train = train_data.shape[0]\n",
    "train_features = torch.tensor(features[:n_train].values, dtype=torch.float32)\n",
    "test_features = torch.tensor(features[n_train:].values, dtype=torch.float32)\n",
    "train_labels = torch.tensor(\n",
    "    train_data.SalePrice.values.reshape(-1, 1), dtype=torch.float32)"
   ]
  },
  {
   "cell_type": "code",
   "execution_count": 66,
   "id": "ab6d62aa-7f09-40b5-b792-3db1ed7eb182",
   "metadata": {},
   "outputs": [],
   "source": [
    "#模型构建以及损失函数\n",
    "loss = nn.MSELoss()\n",
    "in_features = train_features.shape[1]\n",
    "\n",
    "def get_net():\n",
    "    net = nn.Sequential(\n",
    "        nn.Linear(in_features,1))\n",
    "    return net\n",
    "\n",
    "def log_rmse(net, features, labels):\n",
    "    clipped_preds = torch.clamp(net(features), 1, float('inf'))\n",
    "    rmse = torch.sqrt(loss(torch.log(clipped_preds),\n",
    "                           torch.log(labels)))\n",
    "    return rmse.item()"
   ]
  },
  {
   "cell_type": "code",
   "execution_count": 89,
   "id": "ae698126-bdf4-4ed3-b664-72391d59f987",
   "metadata": {},
   "outputs": [],
   "source": [
    "#模型训练\n",
    "def train(net, train_features, train_labels, \n",
    "          num_epochs, learning_rate, weight_decay, batch_size):\n",
    "    train_ls, test_ls = [], []\n",
    "    train_dataset = TensorDataset(train_features, train_labels)\n",
    "    train_iter = DataLoader(train_dataset, batch_size=batch_size, shuffle=True)\n",
    "    optimizer = torch.optim.Adam(net.parameters(),\n",
    "                                 lr = learning_rate,\n",
    "                                 weight_decay = weight_decay)\n",
    "    for epoch in range(num_epochs):\n",
    "        for X, y in train_iter:\n",
    "            optimizer.zero_grad()\n",
    "            l = loss(net(X), y)\n",
    "            l.backward()\n",
    "            optimizer.step()\n",
    "        train_ls.append(log_rmse(net, train_features, train_labels))\n",
    "    return train_ls, test_ls"
   ]
  },
  {
   "cell_type": "code",
   "execution_count": 95,
   "id": "2511beb9-496e-467d-b958-f56a5da77e9e",
   "metadata": {},
   "outputs": [
    {
     "name": "stdout",
     "output_type": "stream",
     "text": [
      "([8.853338241577148, 8.66311264038086, 8.563430786132812, 8.506301879882812, 8.462475776672363, 8.434672355651855, 8.41757583618164, 8.408380508422852, 8.390048027038574, 8.390693664550781, 8.376922607421875, 8.36920166015625, 8.358766555786133, 8.352455139160156, 8.351505279541016, 8.353009223937988, 8.350590705871582, 8.34039306640625, 8.342693328857422, 8.33510971069336, 8.330342292785645, 8.330846786499023, 8.327282905578613, 8.329651832580566, 8.319137573242188, 8.308155059814453, 8.306154251098633, 8.309293746948242, 8.298196792602539, 8.303515434265137, 8.299491882324219, 8.307718276977539, 8.304859161376953, 8.306768417358398, 8.303330421447754, 8.301942825317383, 8.296956062316895, 8.295376777648926, 8.28995132446289, 8.283586502075195, 8.276979446411133, 8.268641471862793, 8.25793743133545, 8.264036178588867, 8.260812759399414, 8.256399154663086, 8.245905876159668, 8.248190879821777, 8.234000205993652, 8.22231674194336, 8.207897186279297, 8.203312873840332, 8.198394775390625, 8.20443344116211, 8.202590942382812, 8.1934175491333, 8.190096855163574, 8.187647819519043, 8.186094284057617, 8.181585311889648, 8.176620483398438, 8.164227485656738, 8.1575288772583, 8.155628204345703, 8.147852897644043, 8.145480155944824, 8.13941764831543, 8.13554859161377, 8.128593444824219, 8.12263298034668, 8.125470161437988, 8.124374389648438, 8.122343063354492, 8.122326850891113, 8.121039390563965, 8.115095138549805, 8.115108489990234, 8.106954574584961, 8.098715782165527, 8.093982696533203, 8.08764934539795, 8.070653915405273, 8.061944007873535, 8.0577974319458, 8.052209854125977, 8.049245834350586, 8.040681838989258, 8.039860725402832, 8.037372589111328, 8.032232284545898, 8.028484344482422, 8.030062675476074, 8.019379615783691, 8.005960464477539, 7.997673988342285, 7.9905924797058105, 7.993500232696533, 7.985872745513916, 7.98150634765625, 7.958837032318115], [])\n",
      "最终训练的RMSE: 7.9597\n"
     ]
    }
   ],
   "source": [
    "train_losses, trained_model = train(\n",
    "    get_net(), train_features, train_labels, \n",
    "    num_epochs=100, learning_rate=5, weight_decay=0, batch_size=64\n",
    ")\n",
    "print(train(\n",
    "    get_net(), train_features, train_labels, \n",
    "    num_epochs=100, learning_rate=5, weight_decay=0, batch_size=64\n",
    "))\n",
    "print(f\"最终训练的RMSE: {train_losses[-1]:.4f}\")"
   ]
  }
 ],
 "metadata": {
  "kernelspec": {
   "display_name": "Python 3 (ipykernel)",
   "language": "python",
   "name": "python3"
  },
  "language_info": {
   "codemirror_mode": {
    "name": "ipython",
    "version": 3
   },
   "file_extension": ".py",
   "mimetype": "text/x-python",
   "name": "python",
   "nbconvert_exporter": "python",
   "pygments_lexer": "ipython3",
   "version": "3.13.7"
  }
 },
 "nbformat": 4,
 "nbformat_minor": 5
}
